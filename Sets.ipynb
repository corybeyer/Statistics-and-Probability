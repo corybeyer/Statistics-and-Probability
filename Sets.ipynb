{
 "cells": [
  {
   "cell_type": "code",
   "execution_count": 7,
   "id": "d3c2bd34",
   "metadata": {},
   "outputs": [],
   "source": [
    "import numpy as np\n",
    "import matplotlib.pyplot as plt\n",
    "import matplotlib.patches as patches"
   ]
  },
  {
   "cell_type": "markdown",
   "id": "a706d68a",
   "metadata": {},
   "source": [
    "#### 1.2.1 Find the union $C_1 \\cup C_2 $ and the intersection of $ C_1 \\cap C_2$ of the two sets $C_1$ and $C_2$, where\n",
    "\n",
    "#### a.) $C_1 = {0,1,2} $ and $C_2 = {2,3,4}$"
   ]
  },
  {
   "cell_type": "code",
   "execution_count": 2,
   "id": "e2e78fcc",
   "metadata": {
    "scrolled": true
   },
   "outputs": [
    {
     "name": "stdout",
     "output_type": "stream",
     "text": [
      "C1= [0 1 2]\n",
      "C2= [2 3 4]\n",
      "The union of c1 and c2 is [0 1 2 3 4]\n",
      "the intersection of c1 and c2 is [2]\n"
     ]
    }
   ],
   "source": [
    "c1 = np.array([0,1,2])\n",
    "c2 = np.array([2,3,4])\n",
    "print(\"C1=\", c1)\n",
    "print(\"C2=\", c2)\n",
    "print(\"The union of c1 and c2 is\", np.union1d(c1,c2))\n",
    "print(\"the intersection of c1 and c2 is\", np.intersect1d(c1,c2))"
   ]
  },
  {
   "cell_type": "markdown",
   "id": "5c8a5c5f",
   "metadata": {},
   "source": [
    "#### b.) $C_1 = \\{x: 0 < x < 2 \\} $ and $C_2 = \\{x:1 \\leq x<3\\}$"
   ]
  },
  {
   "cell_type": "code",
   "execution_count": 3,
   "id": "68d624fc",
   "metadata": {},
   "outputs": [
    {
     "name": "stdout",
     "output_type": "stream",
     "text": [
      "C1= [1]\n",
      "C2= [1, 2]\n",
      "The union of c1 and c2 is [1 2]\n",
      "the intersection of c1 and c2 is [1]\n"
     ]
    }
   ],
   "source": [
    "c1 = [i for i in np.arange(0,4) if i > 0 and i < 2]\n",
    "c2 = [i for i in np.arange(0,4) if i >= 1 and i < 3]\n",
    "print(\"C1=\", c1)\n",
    "print(\"C2=\", c2)\n",
    "print(\"The union of c1 and c2 is\", np.union1d(c1,c2))\n",
    "print(\"the intersection of c1 and c2 is\", np.intersect1d(c1,c2))"
   ]
  },
  {
   "cell_type": "markdown",
   "id": "c95d3080",
   "metadata": {},
   "source": [
    "#### c.) $C_1 = \\{(x,y): 0 < x < 2, 1 < y < 2\\}$ and $C_2 = \\{(x,y): 1 < x < 3, 1 < y < 3\\}$ ####"
   ]
  },
  {
   "cell_type": "code",
   "execution_count": 43,
   "id": "2075ea14",
   "metadata": {},
   "outputs": [
    {
     "data": {
      "text/plain": [
       "Text(0.5, 1.0, 'C_1 intersect C_2')"
      ]
     },
     "execution_count": 43,
     "metadata": {},
     "output_type": "execute_result"
    },
    {
     "data": {
      "image/png": "[encoded data removed]",
      "text/plain": [
       "<Figure size 432x288 with 1 Axes>"
      ]
     },
     "metadata": {
      "needs_background": "light"
     },
     "output_type": "display_data"
    }
   ],
   "source": [
    "fig, ax = plt.subplots()\n",
    "ax.add_patch(patches.Rectangle((0,1),2,2,color = 'red', \n",
    "                               alpha = 0.5))\n",
    "ax.add_patch(patches.Rectangle((1,1),2,2,alpha = 0.5, color = 'blue'))\n",
    "plt.ylim(0,3.5)\n",
    "plt.xlim(0,3.5)\n",
    "plt.title('C_1 intersect C_2')"
   ]
  },
  {
   "cell_type": "code",
   "execution_count": null,
   "id": "f999876b",
   "metadata": {},
   "outputs": [],
   "source": []
  }
 ],
 "metadata": {
  "kernelspec": {
   "display_name": "Python 3",
   "language": "python",
   "name": "python3"
  },
  "language_info": {
   "codemirror_mode": {
    "name": "ipython",
    "version": 3
   },
   "file_extension": ".py",
   "mimetype": "text/x-python",
   "name": "python",
   "nbconvert_exporter": "python",
   "pygments_lexer": "ipython3",
   "version": "3.8.8"
  }
 },
 "nbformat": 4,
 "nbformat_minor": 5
}
