{
 "cells": [
  {
   "cell_type": "code",
   "execution_count": 1,
   "id": "933f46a6",
   "metadata": {},
   "outputs": [],
   "source": [
    "import numpy as np\n",
    "import pandas as pd\n",
    "import seaborn as sns\n",
    "import statsmodels.api as sm\n",
    "import matplotlib.pyplot as plt"
   ]
  },
  {
   "cell_type": "markdown",
   "id": "25891f75",
   "metadata": {},
   "source": [
    "A study was conducted on 200 patients admitted to a hospital ICU to create logistic regression model that would predict a patient's survival to hospital dischage. There are 21 variables in the model."
   ]
  },
  {
   "cell_type": "markdown",
   "id": "cda1a0b4",
   "metadata": {},
   "source": [
    " |Variable| Description| Codes/Values| Name|\n",
    "|----|----|----|----|\n",
    "|1|Identfication Code|ID Number|ID|\n",
    "|2| Vital status at hospital discharge| 0 = Lived, 1 = Died |STA\n",
    "|3| Age| Years| AGE|\n",
    "|4| Gender | 0 = Male, 1 = Female |GENDER|\n",
    "|5 |Race| 1 = White, 2 = Black,3 = Other|RACE|\n",
    "|6| Service at ICU admission |0 = Medical, 1 = Surgical|SER|\n",
    "|7| Cancer part of present problem| 0 = No, 1 = Yes|CAN|\n",
    "|8| History of chronic renal failure | 0 = No, 1 = Yes|CRN|\n",
    "|9| Infection probable at ICU admission|0 = No, 1 = Yes|INF|\n",
    "|10| CPR prior to ICU admission| 0 = No, 1 = Yes|CPR|\n",
    "|11|Systolic blood pressure at ICU admission|mm Hg |SYS|\n",
    "|12| Heart rate at ICU admission| Beats/min| HRA|\n",
    "|13| Previous admission to an ICU within 6 months |0 = No, 1 = Yes|PRE|\n",
    "|14| Type of admission |0 = Elective, 1 = Emergency| TYPE|\n",
    "|15| Long bone, multiple, neck, single area, or hip fracture| 0 = No, 1 = Yes |FRA|\n",
    "|16| $PO_2$ from initial blood gases| 0 = > 60, 1 = ≤ 60 |PO2|\n",
    "|17| PH from initial blood gases| 0 = ≥ 7.25, 1 = <7.25| PH |\n",
    "|18| PCO2 from initial blood gases| 0 = ≤ 45, 1 = > 45|PCO|\n",
    "|19| Bicarbonate from initial blood gases|0 = ≥ 18, 1 = <18|BIC|\n",
    "|20| Creatinine from initial blood gases| 0 = ≤ 2.0, 1 = > 2.0|CRE|\n",
    "|21| Level of consciousness at ICU admission |0 = No coma or deep stupor, 1 = Deep stupor, 2 = Coma|LOC|"
   ]
  },
  {
   "cell_type": "code",
   "execution_count": 2,
   "id": "2f486762",
   "metadata": {
    "scrolled": true
   },
   "outputs": [
    {
     "data": {
      "text/html": [
       "<div>\n",
       "<style scoped>\n",
       "    .dataframe tbody tr th:only-of-type {\n",
       "        vertical-align: middle;\n",
       "    }\n",
       "\n",
       "    .dataframe tbody tr th {\n",
       "        vertical-align: top;\n",
       "    }\n",
       "\n",
       "    .dataframe thead th {\n",
       "        text-align: right;\n",
       "    }\n",
       "</style>\n",
       "<table border=\"1\" class=\"dataframe\">\n",
       "  <thead>\n",
       "    <tr style=\"text-align: right;\">\n",
       "      <th></th>\n",
       "      <th>ID</th>\n",
       "      <th>STA</th>\n",
       "      <th>AGE</th>\n",
       "      <th>GENDER</th>\n",
       "      <th>RACE</th>\n",
       "      <th>SER</th>\n",
       "      <th>CAN</th>\n",
       "      <th>CRN</th>\n",
       "      <th>INF</th>\n",
       "      <th>CPR</th>\n",
       "      <th>...</th>\n",
       "      <th>HRA</th>\n",
       "      <th>PRE</th>\n",
       "      <th>TYP</th>\n",
       "      <th>FRA</th>\n",
       "      <th>PO2</th>\n",
       "      <th>PH</th>\n",
       "      <th>PCO</th>\n",
       "      <th>BIC</th>\n",
       "      <th>CRE</th>\n",
       "      <th>LOC</th>\n",
       "    </tr>\n",
       "  </thead>\n",
       "  <tbody>\n",
       "    <tr>\n",
       "      <th>0</th>\n",
       "      <td>4</td>\n",
       "      <td>1</td>\n",
       "      <td>87</td>\n",
       "      <td>1</td>\n",
       "      <td>1</td>\n",
       "      <td>1</td>\n",
       "      <td>0</td>\n",
       "      <td>0</td>\n",
       "      <td>1</td>\n",
       "      <td>0</td>\n",
       "      <td>...</td>\n",
       "      <td>96</td>\n",
       "      <td>0</td>\n",
       "      <td>1</td>\n",
       "      <td>1</td>\n",
       "      <td>1</td>\n",
       "      <td>1</td>\n",
       "      <td>1</td>\n",
       "      <td>0</td>\n",
       "      <td>0</td>\n",
       "      <td>0</td>\n",
       "    </tr>\n",
       "    <tr>\n",
       "      <th>1</th>\n",
       "      <td>8</td>\n",
       "      <td>0</td>\n",
       "      <td>27</td>\n",
       "      <td>1</td>\n",
       "      <td>1</td>\n",
       "      <td>0</td>\n",
       "      <td>0</td>\n",
       "      <td>0</td>\n",
       "      <td>1</td>\n",
       "      <td>0</td>\n",
       "      <td>...</td>\n",
       "      <td>88</td>\n",
       "      <td>0</td>\n",
       "      <td>1</td>\n",
       "      <td>0</td>\n",
       "      <td>0</td>\n",
       "      <td>0</td>\n",
       "      <td>0</td>\n",
       "      <td>0</td>\n",
       "      <td>0</td>\n",
       "      <td>0</td>\n",
       "    </tr>\n",
       "    <tr>\n",
       "      <th>2</th>\n",
       "      <td>12</td>\n",
       "      <td>0</td>\n",
       "      <td>59</td>\n",
       "      <td>0</td>\n",
       "      <td>1</td>\n",
       "      <td>0</td>\n",
       "      <td>0</td>\n",
       "      <td>0</td>\n",
       "      <td>0</td>\n",
       "      <td>0</td>\n",
       "      <td>...</td>\n",
       "      <td>80</td>\n",
       "      <td>1</td>\n",
       "      <td>1</td>\n",
       "      <td>0</td>\n",
       "      <td>0</td>\n",
       "      <td>0</td>\n",
       "      <td>0</td>\n",
       "      <td>0</td>\n",
       "      <td>0</td>\n",
       "      <td>0</td>\n",
       "    </tr>\n",
       "    <tr>\n",
       "      <th>3</th>\n",
       "      <td>14</td>\n",
       "      <td>0</td>\n",
       "      <td>77</td>\n",
       "      <td>0</td>\n",
       "      <td>1</td>\n",
       "      <td>1</td>\n",
       "      <td>0</td>\n",
       "      <td>0</td>\n",
       "      <td>0</td>\n",
       "      <td>0</td>\n",
       "      <td>...</td>\n",
       "      <td>70</td>\n",
       "      <td>0</td>\n",
       "      <td>0</td>\n",
       "      <td>0</td>\n",
       "      <td>0</td>\n",
       "      <td>0</td>\n",
       "      <td>0</td>\n",
       "      <td>0</td>\n",
       "      <td>0</td>\n",
       "      <td>0</td>\n",
       "    </tr>\n",
       "    <tr>\n",
       "      <th>4</th>\n",
       "      <td>27</td>\n",
       "      <td>1</td>\n",
       "      <td>76</td>\n",
       "      <td>1</td>\n",
       "      <td>1</td>\n",
       "      <td>1</td>\n",
       "      <td>0</td>\n",
       "      <td>0</td>\n",
       "      <td>1</td>\n",
       "      <td>0</td>\n",
       "      <td>...</td>\n",
       "      <td>90</td>\n",
       "      <td>1</td>\n",
       "      <td>1</td>\n",
       "      <td>0</td>\n",
       "      <td>0</td>\n",
       "      <td>0</td>\n",
       "      <td>0</td>\n",
       "      <td>0</td>\n",
       "      <td>0</td>\n",
       "      <td>0</td>\n",
       "    </tr>\n",
       "  </tbody>\n",
       "</table>\n",
       "<p>5 rows × 21 columns</p>\n",
       "</div>"
      ],
      "text/plain": [
       "   ID  STA  AGE  GENDER  RACE  SER  CAN  CRN  INF  CPR  ...  HRA  PRE  TYP  \\\n",
       "0   4    1   87       1     1    1    0    0    1    0  ...   96    0    1   \n",
       "1   8    0   27       1     1    0    0    0    1    0  ...   88    0    1   \n",
       "2  12    0   59       0     1    0    0    0    0    0  ...   80    1    1   \n",
       "3  14    0   77       0     1    1    0    0    0    0  ...   70    0    0   \n",
       "4  27    1   76       1     1    1    0    0    1    0  ...   90    1    1   \n",
       "\n",
       "   FRA  PO2  PH  PCO  BIC  CRE  LOC  \n",
       "0    1    1   1    1    0    0    0  \n",
       "1    0    0   0    0    0    0    0  \n",
       "2    0    0   0    0    0    0    0  \n",
       "3    0    0   0    0    0    0    0  \n",
       "4    0    0   0    0    0    0    0  \n",
       "\n",
       "[5 rows x 21 columns]"
      ]
     },
     "execution_count": 2,
     "metadata": {},
     "output_type": "execute_result"
    }
   ],
   "source": [
    "read = r\"C:\\Users\\coryb\\OneDrive\\Categroical Analysis\\ICU.txt\"\n",
    "df= pd.read_csv(read,delimiter = \"\\t\")\n",
    "df.head()"
   ]
  },
  {
   "cell_type": "markdown",
   "id": "7f8d97aa",
   "metadata": {},
   "source": [
    "In the ICU data described in Section 1.6.1 the primary outcome variable is vital status at hospital discharge, STA. Clinicians associated with the study felt that a key determinant of survival was the patient’s age at admission, AGE."
   ]
  },
  {
   "cell_type": "markdown",
   "id": "0da6c5a2",
   "metadata": {},
   "source": [
    "#### 1. Write down the equation for the logistic regression model of STA on AGE. "
   ]
  },
  {
   "cell_type": "code",
   "execution_count": 3,
   "id": "9b1c076b",
   "metadata": {},
   "outputs": [
    {
     "name": "stdout",
     "output_type": "stream",
     "text": [
      "Optimization terminated successfully.\n",
      "         Current function value: 0.480766\n",
      "         Iterations 6\n"
     ]
    }
   ],
   "source": [
    "y=df['STA']\n",
    "X = df['AGE']\n",
    "X1=sm.add_constant(X)\n",
    "model = sm.Logit(y,X1).fit()"
   ]
  },
  {
   "cell_type": "code",
   "execution_count": 4,
   "id": "6c20e876",
   "metadata": {},
   "outputs": [
    {
     "data": {
      "text/plain": [
       "const   -3.058513\n",
       "AGE      0.027543\n",
       "dtype: float64"
      ]
     },
     "execution_count": 4,
     "metadata": {},
     "output_type": "execute_result"
    }
   ],
   "source": [
    "model.params"
   ]
  },
  {
   "cell_type": "markdown",
   "id": "3062a008",
   "metadata": {},
   "source": [
    "$$\\pi(x)= \\frac{e^{-3.058513+0.027543X_i}}{1+e^{-3.058513+0.027543X_i}}$$"
   ]
  },
  {
   "cell_type": "markdown",
   "id": "8a335b4b",
   "metadata": {},
   "source": [
    "#### Write down the equation for the logit transformation of this logistic regression model."
   ]
  },
  {
   "cell_type": "markdown",
   "id": "a412a9db",
   "metadata": {},
   "source": [
    "$$ln\\left[\\frac{\\pi(x)}{1-\\pi{x}}\\right] = -3.058513 + 0.027543x$$"
   ]
  },
  {
   "cell_type": "markdown",
   "id": "adaacff5",
   "metadata": {},
   "source": [
    "#### What characteristic of the outcome variable, STA, leads us to consider the logistic regression model as opposed to the usual linear regression model to describe the relationship between STA and AGE? ##"
   ]
  },
  {
   "cell_type": "markdown",
   "id": "e5a2d912",
   "metadata": {},
   "source": [
    "Linear regression is a continuous projection of the average response given independent variables. The continuousness of linear regression is unsuitable for dichotomous variables because the estimated average from linear regression will extend in both the negative and positive infinity directions. Logistic regression is used because we can contain the response variable within the confines of 0 and 1 and therefore create a probabilit that an event will either be a 1 or a 0."
   ]
  },
  {
   "cell_type": "code",
   "execution_count": 5,
   "id": "59676341",
   "metadata": {},
   "outputs": [
    {
     "data": {
      "text/plain": [
       "<AxesSubplot:xlabel='STA', ylabel='count'>"
      ]
     },
     "execution_count": 5,
     "metadata": {},
     "output_type": "execute_result"
    },
    {
     "data": {
      "image/png": "[encoded data removed]",
      "text/plain": [
       "<Figure size 432x288 with 1 Axes>"
      ]
     },
     "metadata": {
      "needs_background": "light"
     },
     "output_type": "display_data"
    }
   ],
   "source": [
    "sns.countplot(data=df, x='STA')"
   ]
  },
  {
   "cell_type": "markdown",
   "id": "f696dadc",
   "metadata": {},
   "source": [
    "####  Form a scatterplot of STA versus AGE."
   ]
  },
  {
   "cell_type": "code",
   "execution_count": 6,
   "id": "9302b56e",
   "metadata": {},
   "outputs": [
    {
     "data": {
      "text/plain": [
       "<AxesSubplot:xlabel='AGE', ylabel='STA'>"
      ]
     },
     "execution_count": 6,
     "metadata": {},
     "output_type": "execute_result"
    },
    {
     "data": {
      "image/png": "[encoded data removed]",
      "text/plain": [
       "<Figure size 432x288 with 1 Axes>"
      ]
     },
     "metadata": {
      "needs_background": "light"
     },
     "output_type": "display_data"
    }
   ],
   "source": [
    "sns.scatterplot(data=df, x='AGE', y='STA')"
   ]
  },
  {
   "cell_type": "markdown",
   "id": "106bd85a",
   "metadata": {},
   "source": [
    "#### Using the intervals (15, 24), (25, 34), (35, 44), (45, 54), (55, 64), (65, 74), (75, 84), (85, 94) for age, compute the STA mean over subjects within each age interval. Plot these values of mean STA versus the midpoint of the age interval."
   ]
  },
  {
   "cell_type": "code",
   "execution_count": 7,
   "id": "42224cfe",
   "metadata": {},
   "outputs": [],
   "source": [
    "bin_ages = pd.cut(x=df.AGE, right=False,bins= [15,25,35,45,55,65,75,85,94])\n",
    "bin_ages = pd.DataFrame(bin_ages)\n",
    "bin_ages.rename(columns={'AGE':'BinAge'},inplace=True)\n",
    "df=df.join(bin_ages);"
   ]
  },
  {
   "cell_type": "code",
   "execution_count": 8,
   "id": "854646d0",
   "metadata": {},
   "outputs": [],
   "source": [
    "grouped = df.groupby('BinAge').mean('STA')"
   ]
  },
  {
   "cell_type": "code",
   "execution_count": 9,
   "id": "5b341a24",
   "metadata": {},
   "outputs": [
    {
     "data": {
      "text/plain": [
       "<seaborn.axisgrid.FacetGrid at 0x1d2645b6250>"
      ]
     },
     "execution_count": 9,
     "metadata": {},
     "output_type": "execute_result"
    },
    {
     "data": {
      "image/png": "[encoded data removed]",
      "text/plain": [
       "<Figure size 360x360 with 1 Axes>"
      ]
     },
     "metadata": {
      "needs_background": "light"
     },
     "output_type": "display_data"
    }
   ],
   "source": [
    "sns.catplot(data=grouped.reset_index(), x='BinAge', y = 'STA')"
   ]
  },
  {
   "cell_type": "markdown",
   "id": "26b32b55",
   "metadata": {},
   "source": [
    "#### Write down an expression for the likelihood and log likelihood for the logistic regression model in Exercise 1(a) using the ungrouped, n = 200, data. Obtain expressions for the two likelihood equations."
   ]
  },
  {
   "cell_type": "markdown",
   "id": "9966bda5",
   "metadata": {},
   "source": [
    "Whereas linear regression uses least squares to estimate a model's coefficients, logistic regression uses maximum likelihood. The maximum likelihood estimators of the parameters are the values that maximizes the Bernoulli distribution:\n",
    "\n",
    "$$p(x) = \\begin{cases} \n",
    "    \\pi(x_i)^{y_i}\\left[1-\\pi(x_i) \\right]^{1-y_i}\\quad &\\text{if} \\, x=1\\\\ \n",
    "    0                                             \\quad &\\text{if otherwise}\\\\ \\end{cases} $$"
   ]
  },
  {
   "cell_type": "markdown",
   "id": "be2193eb",
   "metadata": {},
   "source": [
    "We treat each outcome as independent, therefore the likelihood function is obtained as the product of the terms in the equation.\n",
    "\n",
    "$$l(\\beta) = \\prod_{i=1}^{n} \\pi(x_i)^y_{i}\\left[1-\\pi(x_i)\\right]^{1-y_i} $$\n",
    "\n",
    "Solving the equation is much easier when we take the log of the expression above to obtain:\n",
    "\n",
    "$$ l(\\beta) = \\ln\\left[l\\left(\\beta\\right)\\right] = \\sum_{i=1}^{n} \\left\\{y_i \\ln\\left[\\pi(x_i)\\right] + (1-y_i) \\ln\\left[1-\\pi(x_i) \\right] \\right\\} $$\n",
    "\n",
    "Differentiate the equation with respect to $\\beta_0$ and $\\beta_1$ while setting the equations to zero will maximize the parameters.The differentiated equations are:\n",
    "\n",
    "$$\\sum\\left[ y_i - \\pi (x_i) \\right] = 0 $$\n",
    "\n",
    "$$\\sum x_i\\left[ y_i - \\pi (x_i) \\right] = 0 $$"
   ]
  },
  {
   "cell_type": "markdown",
   "id": "8cf482e6",
   "metadata": {},
   "source": [
    "#### Using the model's estimates plot the equation for the fitted values in a scatterplots ####"
   ]
  },
  {
   "cell_type": "code",
   "execution_count": 10,
   "id": "93ab5725",
   "metadata": {
    "scrolled": true
   },
   "outputs": [
    {
     "data": {
      "text/plain": [
       "<AxesSubplot:xlabel='AGE', ylabel='STA'>"
      ]
     },
     "execution_count": 10,
     "metadata": {},
     "output_type": "execute_result"
    },
    {
     "data": {
      "image/png": "[encoded data removed]",
      "text/plain": [
       "<Figure size 432x288 with 1 Axes>"
      ]
     },
     "metadata": {
      "needs_background": "light"
     },
     "output_type": "display_data"
    }
   ],
   "source": [
    "inputs = np.linspace(df['AGE'].min(),df['AGE'].max(),1000)\n",
    "probs = model.predict(sm.add_constant(inputs))\n",
    "\n",
    "sns.lineplot(x=inputs, y = probs)\n",
    "sns.scatterplot(data=df, x='AGE',y='STA')"
   ]
  },
  {
   "cell_type": "markdown",
   "id": "1d154b4f",
   "metadata": {},
   "source": [
    "#### Using the results of the output from the logistic regression package assess the significance of the slope coefficient for AGE using the likelihood ratio test, the Wald test, and if possible, the score test.\n",
    "\n",
    "46"
   ]
  },
  {
   "cell_type": "markdown",
   "id": "41ffabdc",
   "metadata": {},
   "source": [
    "In linear regression, we interpret the coefficients as the rate of change in the response for every unit of increase in the explanatory variable. Logistic regression has a slightly different interpretation because the logistic function does not have a constant slope. In addition to the differences in shape, the logistic regression model also estimates log odds rather than a constant. Log odds keep the response variable contained between 0 and 1, which is necessary for predicting binary response variables.  \n",
    "\n",
    "As a result of this configuration, we can use two different forms of the logistic function. One form is the logit function, or log odds function. The coefficients of the logit regression model represent the rate of change in the log odds given increases in the explanatory variables.\n",
    "\n",
    "$$\\ln\\left(\\frac{p}{1-p}\\right)=\\beta_0+\\beta_1 X_i$$\n"
   ]
  },
  {
   "cell_type": "code",
   "execution_count": null,
   "id": "e7aad3fc",
   "metadata": {},
   "outputs": [],
   "source": []
  }
 ],
 "metadata": {
  "kernelspec": {
   "display_name": "Python 3",
   "language": "python",
   "name": "python3"
  },
  "language_info": {
   "codemirror_mode": {
    "name": "ipython",
    "version": 3
   },
   "file_extension": ".py",
   "mimetype": "text/x-python",
   "name": "python",
   "nbconvert_exporter": "python",
   "pygments_lexer": "ipython3",
   "version": "3.8.8"
  }
 },
 "nbformat": 4,
 "nbformat_minor": 5
}
