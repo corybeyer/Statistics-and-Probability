{
 "cells": [
  {
   "cell_type": "code",
   "execution_count": 1,
   "id": "c9b0c356",
   "metadata": {},
   "outputs": [],
   "source": [
    "import numpy as np\n",
    "import pandas as pd\n",
    "\n",
    "from numpy.linalg import inv\n",
    "import statsmodels.api as sm\n",
    "\n",
    "import matplotlib.pyplot as plt\n",
    "from matplotlib import collections as matcoll\n",
    "import seaborn as sns"
   ]
  },
  {
   "cell_type": "code",
   "execution_count": 2,
   "id": "437cc04b",
   "metadata": {},
   "outputs": [],
   "source": [
    "X = np.arange(0,5,1)\n",
    "y = 3 + .5*X+np.sin(X*10)+np.random.normal(0,5)\n",
    "y = y.round(2)"
   ]
  },
  {
   "cell_type": "code",
   "execution_count": 3,
   "id": "d0eb411c",
   "metadata": {
    "scrolled": true
   },
   "outputs": [
    {
     "data": {
      "text/plain": [
       "<AxesSubplot:>"
      ]
     },
     "execution_count": 3,
     "metadata": {},
     "output_type": "execute_result"
    },
    {
     "data": {
      "image/png": "[encoded data removed]",
      "text/plain": [
       "<Figure size 432x288 with 1 Axes>"
      ]
     },
     "metadata": {
      "needs_background": "light"
     },
     "output_type": "display_data"
    }
   ],
   "source": [
    "sns.scatterplot(x=X,y=y)"
   ]
  },
  {
   "cell_type": "markdown",
   "id": "40df59b4",
   "metadata": {},
   "source": [
    "$$ b = (X'X)^{-1}X'Y $$"
   ]
  },
  {
   "cell_type": "code",
   "execution_count": 4,
   "id": "cffba997",
   "metadata": {},
   "outputs": [
    {
     "data": {
      "text/plain": [
       "array([-3.836,  0.604])"
      ]
     },
     "execution_count": 4,
     "metadata": {},
     "output_type": "execute_result"
    }
   ],
   "source": [
    "X1 = sm.add_constant(X)\n",
    "b = inv(X1.T @ X1)@X1.T@y\n",
    "b"
   ]
  },
  {
   "cell_type": "markdown",
   "id": "0b7568ca",
   "metadata": {},
   "source": [
    "$$ \\hat{Y_i} = \\beta_0 + \\beta_1 X_i $$"
   ]
  },
  {
   "cell_type": "code",
   "execution_count": 5,
   "id": "ebe03d39",
   "metadata": {},
   "outputs": [],
   "source": [
    "y_hat = b[0] +b[1]*X"
   ]
  },
  {
   "cell_type": "code",
   "execution_count": 6,
   "id": "0a2f7102",
   "metadata": {},
   "outputs": [
    {
     "data": {
      "text/plain": [
       "<AxesSubplot:>"
      ]
     },
     "execution_count": 6,
     "metadata": {},
     "output_type": "execute_result"
    },
    {
     "data": {
      "image/png": "[encoded data removed]",
      "text/plain": [
       "<Figure size 432x288 with 1 Axes>"
      ]
     },
     "metadata": {
      "needs_background": "light"
     },
     "output_type": "display_data"
    }
   ],
   "source": [
    "sns.scatterplot(x=X,y=y)\n",
    "sns.lineplot(x=X, y=y_hat)"
   ]
  },
  {
   "cell_type": "markdown",
   "id": "40277036",
   "metadata": {},
   "source": [
    "$$ e_{n x 1} = Y_{n x 1} - \\hat{Y}_{n x 1} $$"
   ]
  },
  {
   "cell_type": "code",
   "execution_count": 7,
   "id": "ce8aecd0",
   "metadata": {},
   "outputs": [],
   "source": [
    "e = y-y_hat"
   ]
  },
  {
   "cell_type": "markdown",
   "id": "ad90fba4",
   "metadata": {},
   "source": [
    "$$SSE = e'e$$"
   ]
  },
  {
   "cell_type": "code",
   "execution_count": 8,
   "id": "7168622d",
   "metadata": {},
   "outputs": [
    {
     "data": {
      "text/plain": [
       "2.54772"
      ]
     },
     "execution_count": 8,
     "metadata": {},
     "output_type": "execute_result"
    }
   ],
   "source": [
    "SSE = e.T@e\n",
    "SSE"
   ]
  },
  {
   "cell_type": "markdown",
   "id": "459656c0",
   "metadata": {},
   "source": [
    "$$ SSR = b'X'Y - \\frac{1}{n}Y'JY $$"
   ]
  },
  {
   "cell_type": "code",
   "execution_count": 9,
   "id": "433cd50b",
   "metadata": {},
   "outputs": [
    {
     "data": {
      "text/plain": [
       "3.648159999999983"
      ]
     },
     "execution_count": 9,
     "metadata": {},
     "output_type": "execute_result"
    }
   ],
   "source": [
    "J = np.ones((y.shape[0],y.shape[0]))\n",
    "SSR = b.T@X1.T@y -(1/y.shape[0])*y.T@J@y\n",
    "SSR"
   ]
  },
  {
   "cell_type": "markdown",
   "id": "0b103fa4",
   "metadata": {},
   "source": [
    "$$ SSTO = Y'Y- \\left(\\frac{1}{n}\\right)Y'JY $$"
   ]
  },
  {
   "cell_type": "code",
   "execution_count": 10,
   "id": "2b2ab7ea",
   "metadata": {},
   "outputs": [
    {
     "data": {
      "text/plain": [
       "6.195879999999995"
      ]
     },
     "execution_count": 10,
     "metadata": {},
     "output_type": "execute_result"
    }
   ],
   "source": [
    "SSTO = y.T@y- 1/y.shape[0]*y.T@J@y\n",
    "SSTO"
   ]
  },
  {
   "cell_type": "code",
   "execution_count": 11,
   "id": "3c77dade",
   "metadata": {},
   "outputs": [],
   "source": [
    "import statsmodels.api as sm\n",
    "from statsmodels.formula.api import ols\n",
    "mod = sm.OLS(y, X1).fit()"
   ]
  },
  {
   "cell_type": "code",
   "execution_count": 12,
   "id": "b1aa23b8",
   "metadata": {},
   "outputs": [
    {
     "name": "stdout",
     "output_type": "stream",
     "text": [
      "           df   sum_sq  mean_sq         F    PR(>F)\n",
      "X         1.0  3.64816  3.64816  4.295794  0.129915\n",
      "Residual  3.0  2.54772  0.84924       NaN       NaN\n"
     ]
    }
   ],
   "source": [
    "df = pd.DataFrame(y.T,X.T, columns = ['y']).reset_index()\n",
    "df.rename(columns = {\"index\":\"X\", \"y\":'y'})\n",
    "lm=ols('y~X', data=df).fit()\n",
    "table=sm.stats.anova_lm(lm)\n",
    "print(table)"
   ]
  },
  {
   "cell_type": "code",
   "execution_count": 13,
   "id": "a45b021b",
   "metadata": {},
   "outputs": [
    {
     "data": {
      "text/plain": [
       "-2.628"
      ]
     },
     "execution_count": 13,
     "metadata": {},
     "output_type": "execute_result"
    }
   ],
   "source": [
    "y_mean = np.mean(y)\n",
    "y_mean"
   ]
  },
  {
   "cell_type": "code",
   "execution_count": 14,
   "id": "1f7a0f69",
   "metadata": {
    "scrolled": false
   },
   "outputs": [
    {
     "data": {
      "text/plain": [
       "<matplotlib.lines.Line2D at 0x135b208b460>"
      ]
     },
     "execution_count": 14,
     "metadata": {},
     "output_type": "execute_result"
    },
    {
     "data": {
      "image/png": "[encoded data removed]",
      "text/plain": [
       "<Figure size 432x288 with 1 Axes>"
      ]
     },
     "metadata": {
      "needs_background": "light"
     },
     "output_type": "display_data"
    }
   ],
   "source": [
    "sns.scatterplot(x=X,y=y)\n",
    "sns.lineplot(x=X, y=y_hat)\n",
    "plt.axhline(y = y_mean, color = 'red',ls ='--')"
   ]
  },
  {
   "cell_type": "code",
   "execution_count": 15,
   "id": "269c09be",
   "metadata": {},
   "outputs": [
    {
     "data": {
      "text/plain": [
       "array([-2.628, -2.628, -2.628, -2.628, -2.628])"
      ]
     },
     "execution_count": 15,
     "metadata": {},
     "output_type": "execute_result"
    }
   ],
   "source": [
    "avgline_y = y_mean*np.ones(len(X))\n",
    "avgline_y"
   ]
  },
  {
   "cell_type": "code",
   "execution_count": 16,
   "id": "6f12b75c",
   "metadata": {},
   "outputs": [
    {
     "data": {
      "text/plain": [
       "<matplotlib.lines.Line2D at 0x135b2626e20>"
      ]
     },
     "execution_count": 16,
     "metadata": {},
     "output_type": "execute_result"
    },
    {
     "data": {
      "image/png": "[encoded data removed]",
      "text/plain": [
       "<Figure size 432x288 with 1 Axes>"
      ]
     },
     "metadata": {
      "needs_background": "light"
     },
     "output_type": "display_data"
    }
   ],
   "source": [
    "lines = []\n",
    "for i in range(len(X)):\n",
    "    pair=[(X[i],y[i]), (X[i], avgline_y[i])]\n",
    "    lines.append(pair)\n",
    "\n",
    "linecoll = matcoll.LineCollection(lines, colors = 'green')\n",
    "fig, ax = plt.subplots()\n",
    "ax.add_collection(linecoll)\n",
    "sns.scatterplot(x=X,y=y)\n",
    "sns.lineplot(x=X, y=y_hat)\n",
    "plt.axhline(y = y_mean, color = 'red',ls ='--')"
   ]
  },
  {
   "cell_type": "code",
   "execution_count": 17,
   "id": "68ae7f10",
   "metadata": {},
   "outputs": [
    {
     "data": {
      "text/plain": [
       "<matplotlib.lines.Line2D at 0x135b26a5eb0>"
      ]
     },
     "execution_count": 17,
     "metadata": {},
     "output_type": "execute_result"
    },
    {
     "data": {
      "image/png": "[encoded data removed]",
      "text/plain": [
       "<Figure size 432x288 with 1 Axes>"
      ]
     },
     "metadata": {
      "needs_background": "light"
     },
     "output_type": "display_data"
    }
   ],
   "source": [
    "lines = []\n",
    "for i in range(len(X)):\n",
    "    pair=[(X[i],y[i]), (X[i], y_hat[i])]\n",
    "    lines.append(pair)\n",
    "\n",
    "linecoll = matcoll.LineCollection(lines, color = 'purple')\n",
    "fig, ax = plt.subplots()\n",
    "ax.add_collection(linecoll)\n",
    "sns.scatterplot(x=X,y=y)\n",
    "sns.lineplot(x=X, y=y_hat)\n",
    "plt.axhline(y = y_mean, color = 'red',ls ='--')"
   ]
  },
  {
   "cell_type": "code",
   "execution_count": null,
   "id": "dda8ca0b",
   "metadata": {},
   "outputs": [],
   "source": []
  }
 ],
 "metadata": {
  "kernelspec": {
   "display_name": "Python 3",
   "language": "python",
   "name": "python3"
  },
  "language_info": {
   "codemirror_mode": {
    "name": "ipython",
    "version": 3
   },
   "file_extension": ".py",
   "mimetype": "text/x-python",
   "name": "python",
   "nbconvert_exporter": "python",
   "pygments_lexer": "ipython3",
   "version": "3.8.8"
  }
 },
 "nbformat": 4,
 "nbformat_minor": 5
}
