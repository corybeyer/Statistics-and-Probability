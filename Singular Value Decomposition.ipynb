{
 "cells": [
  {
   "cell_type": "markdown",
   "id": "e74bc6ee",
   "metadata": {},
   "source": [
    "## Singular Value Decomposition"
   ]
  },
  {
   "cell_type": "markdown",
   "id": "bd01ffc3",
   "metadata": {},
   "source": [
    "Singular Value Decomposition (SVD) is a crucial technique for matrix factorization. It's used to simplify large datasets into their low-rank approximations, implying that a few key patterns can explain the complex, high-dimensional data.\n",
    "\n",
    "SVD is unique in that it is guaranteed to exist for every matrix. It's also numerically stable and provides a hierarchical data representation.\n",
    "\n",
    "$ X = \\begin{bmatrix} \n",
    "        |   & |   & \\vdots & |  \\\\ \n",
    "        x_1 & x_2 & \\dots & x_m \\\\\n",
    "        |   & |   & \\vdots & | \n",
    "       \\end{bmatrix}^{m \\times n} $\n",
    "       \n",
    "The matrix $X$ may be represented by the product of matrices $ U\\Sigma V^T$ \n",
    "       \n",
    "$ U\\Sigma V^T = \\begin{bmatrix}\n",
    "                |   &  |   &  \\vdots & |  \\\\ \n",
    "                u_1 &  u_2 &  \\dots  & u_n \\\\\n",
    "                |   &  |   &  \\vdots & |                 \n",
    "                \\end{bmatrix}\n",
    "               \\begin{bmatrix}\n",
    "                  \\sigma_1 &   0        &    0      \\\\ \n",
    "                  0        &   \\ddots   &    0      \\\\\n",
    "                  0        &   0        & \\sigma_m \\\\\n",
    "                  0        &   0        &    0     \\\\\n",
    "                  \\vdots   &   \\vdots   &  \\vdots  \n",
    "                \\end{bmatrix} \n",
    "                \\begin{bmatrix}\n",
    "                |   &  |   &  \\vdots & |  \\\\ \n",
    "                v_1 &  v_2 &  \\dots  & v_n \\\\\n",
    "                |   &  |   &  \\vdots & |                 \n",
    "                \\end{bmatrix}^{T}$               \n",
    "\n",
    "The columns of  $U$ ($u_i$) are similar to the columns of $X$ ($x_i$) and can be considered as the eigenvectors of $X$. Eigenvectors are useful because they provide a coordinate transformation from the high-dimensional measurement space into a low-dimensional pattern space.They are arranged hierarchically, with $u_1$ being more significant than $u_2$. The U matrix is unitary, which means $U^TU = UU^T =I$. In other words, the transpose of $U$ is the inverse of $U$.\n",
    "\n",
    "The diagonal elements of Σ are also arranged hierarchically, with the elements ordered as $\\sigma_1 \\geq \\sigma_2 \\geq \\sigma_m \\geq 0$. As the $\\sigma$s get smaller they approximate $X$ less, which means the approximation of $X$ is influenced more by the dominate elements of $\\sigma$.\n",
    "       \n",
    "The first column of $V^T$ tells us how much of a mixture between all of the columns of $U$ that should add up to make a row of $X$. \n",
    "\n",
    "In summary of $U\\Sigma V^T$:\n",
    "1. $U$ contains information about the columns space of $X$\n",
    "2. $V$ contains information about the row space of $X$\n",
    "3. $\\Sigma$ tells us how important the columns of $U$ and $V$ are to $X$"
   ]
  },
  {
   "cell_type": "code",
   "execution_count": 1,
   "id": "b0d22c01",
   "metadata": {},
   "outputs": [],
   "source": [
    "import numpy as np\n",
    "from numpy import linalg as LA\n",
    "np.set_printoptions(suppress=True)"
   ]
  },
  {
   "cell_type": "code",
   "execution_count": 2,
   "id": "4c9e15dd",
   "metadata": {},
   "outputs": [
    {
     "data": {
      "text/plain": [
       "array([[ 1, -1,  3],\n",
       "       [ 3,  1,  1]])"
      ]
     },
     "execution_count": 2,
     "metadata": {},
     "output_type": "execute_result"
    }
   ],
   "source": [
    "A = np.array([[1,-1,3],[3,1,1]])\n",
    "A"
   ]
  },
  {
   "cell_type": "markdown",
   "id": "d6753387",
   "metadata": {},
   "source": [
    "The $\\Sigma$ matrix contains the eigenvalues of $A^TA$"
   ]
  },
  {
   "cell_type": "code",
   "execution_count": 3,
   "id": "7148f92f",
   "metadata": {},
   "outputs": [
    {
     "data": {
      "text/plain": [
       "array([[10,  2,  6],\n",
       "       [ 2,  2, -2],\n",
       "       [ 6, -2, 10]])"
      ]
     },
     "execution_count": 3,
     "metadata": {},
     "output_type": "execute_result"
    }
   ],
   "source": [
    "temp = A.T @ A\n",
    "temp"
   ]
  },
  {
   "cell_type": "markdown",
   "id": "bf8e452d",
   "metadata": {},
   "source": [
    "$$Det(A^TA - \\lambda I) = 0 $$"
   ]
  },
  {
   "cell_type": "markdown",
   "id": "f814203b",
   "metadata": {},
   "source": [
    "To find singular values we take the square root of all non-zero eigenvalues"
   ]
  },
  {
   "cell_type": "code",
   "execution_count": 4,
   "id": "bad5a1f3",
   "metadata": {},
   "outputs": [],
   "source": [
    "w, v = LA.eig(temp)\n",
    "idx = w.argsort()[::-1] \n",
    "w = w[idx]\n",
    "v = v[:,idx]"
   ]
  },
  {
   "cell_type": "markdown",
   "id": "642d4881",
   "metadata": {},
   "source": [
    "The eigenvalue 16 corresponds to the eigenvector [ 0.70710678  0.57735027 -0.40824829]"
   ]
  },
  {
   "cell_type": "code",
   "execution_count": 5,
   "id": "aeec6f76",
   "metadata": {},
   "outputs": [
    {
     "name": "stdout",
     "output_type": "stream",
     "text": [
      "16\n"
     ]
    }
   ],
   "source": [
    "# the first eigenvalue in the array\n",
    "print(f\"{w[0]:.0f}\")"
   ]
  },
  {
   "cell_type": "code",
   "execution_count": 6,
   "id": "e7c012ac",
   "metadata": {},
   "outputs": [
    {
     "name": "stdout",
     "output_type": "stream",
     "text": [
      "[-0.70710678 -0.         -0.70710678]\n"
     ]
    }
   ],
   "source": [
    "# the eigenvector associated with the first eigenvalue\n",
    "print(v[:,0])"
   ]
  },
  {
   "cell_type": "code",
   "execution_count": 7,
   "id": "0c03a750",
   "metadata": {},
   "outputs": [
    {
     "data": {
      "text/plain": [
       "array([16.,  6., -0.])"
      ]
     },
     "execution_count": 7,
     "metadata": {},
     "output_type": "execute_result"
    }
   ],
   "source": [
    "# The eigenvalues\n",
    "w"
   ]
  },
  {
   "cell_type": "markdown",
   "id": "6b885e1b",
   "metadata": {},
   "source": [
    "<b> $\\Sigma$ contains the square roots of the eigenvalues </b>"
   ]
  },
  {
   "cell_type": "code",
   "execution_count": 8,
   "id": "59919f44",
   "metadata": {},
   "outputs": [
    {
     "name": "stderr",
     "output_type": "stream",
     "text": [
      "C:\\Users\\coryb\\AppData\\Local\\Temp\\ipykernel_15124\\945988442.py:1: RuntimeWarning: invalid value encountered in sqrt\n",
      "  sigma = np.sqrt(w)\n"
     ]
    },
    {
     "data": {
      "text/plain": [
       "array([4.  , 2.45, 0.  ])"
      ]
     },
     "execution_count": 8,
     "metadata": {},
     "output_type": "execute_result"
    }
   ],
   "source": [
    "sigma = np.sqrt(w)\n",
    "sigma = np.nan_to_num(sigma)\n",
    "sigma = np.sort(sigma)\n",
    "sigma = sigma[::-1]\n",
    "sigma = np.round(sigma,2)\n",
    "\n",
    "sigma"
   ]
  },
  {
   "cell_type": "code",
   "execution_count": 9,
   "id": "bde599c3",
   "metadata": {},
   "outputs": [
    {
     "name": "stdout",
     "output_type": "stream",
     "text": [
      "[[4.   0.   0.  ]\n",
      " [0.   2.45 0.  ]]\n"
     ]
    }
   ],
   "source": [
    "Sigma = np.diag(sigma)[:-1]\n",
    "print(Sigma)\n"
   ]
  },
  {
   "cell_type": "markdown",
   "id": "98ff6ff6",
   "metadata": {},
   "source": [
    "<b> The eigenvectors of $A^TA$ are transposed to form $V^T$ </b>"
   ]
  },
  {
   "cell_type": "code",
   "execution_count": 10,
   "id": "fb6a1930",
   "metadata": {},
   "outputs": [
    {
     "data": {
      "text/plain": [
       "array([[-0.70710678, -0.        , -0.70710678],\n",
       "       [-0.57735027, -0.57735027,  0.57735027],\n",
       "       [ 0.40824829, -0.81649658, -0.40824829]])"
      ]
     },
     "execution_count": 10,
     "metadata": {},
     "output_type": "execute_result"
    }
   ],
   "source": [
    "# eigenvectors\n",
    "V = v.T\n",
    "V"
   ]
  },
  {
   "cell_type": "markdown",
   "id": "8ec4c6f3",
   "metadata": {},
   "source": [
    "We know that $A = U \\Sigma V^T$. With some manipulation, we can rearrange the values to assist in finding $U$.\n",
    "1. $A = U \\Sigma V^T$\n",
    "2. $AV = U \\Sigma V^T V$\n",
    "3. $AV = U \\Sigma I$\n",
    "4. $AV = U \\Sigma$\n",
    "\n",
    "Therefore, \n",
    "$$A \\vec{v}_1 = \\sigma_1 \\vec{u}_1$$\n",
    "$$A \\vec{v}_2 = \\sigma_2 \\vec{u}_2$$\n",
    "\n",
    "Further, the first column of $U$ is found by "
   ]
  },
  {
   "cell_type": "markdown",
   "id": "c6f971c1",
   "metadata": {},
   "source": [
    "$$ u_1 = \\frac{1}{\\sigma_1}A\\vec{v}_1 $$"
   ]
  },
  {
   "cell_type": "code",
   "execution_count": 11,
   "id": "73fe1f66",
   "metadata": {},
   "outputs": [
    {
     "data": {
      "text/plain": [
       "array([[-0.70710678],\n",
       "       [-0.70710678]])"
      ]
     },
     "execution_count": 11,
     "metadata": {},
     "output_type": "execute_result"
    }
   ],
   "source": [
    "u_1 = 1 / Sigma[0,0] * A @V[0].reshape(-1,1)\n",
    "u_1"
   ]
  },
  {
   "cell_type": "code",
   "execution_count": 12,
   "id": "46fbcc1b",
   "metadata": {},
   "outputs": [
    {
     "data": {
      "text/plain": [
       "array([[ 0.70695951],\n",
       "       [-0.70695951]])"
      ]
     },
     "execution_count": 12,
     "metadata": {},
     "output_type": "execute_result"
    }
   ],
   "source": [
    "u_2 = 1 / Sigma[1,1] * A @V[1].reshape(-1,1)\n",
    "u_2"
   ]
  },
  {
   "cell_type": "code",
   "execution_count": 13,
   "id": "27f1e92e",
   "metadata": {},
   "outputs": [
    {
     "data": {
      "text/plain": [
       "array([[-0.70710678,  0.70695951],\n",
       "       [-0.70710678, -0.70695951]])"
      ]
     },
     "execution_count": 13,
     "metadata": {},
     "output_type": "execute_result"
    }
   ],
   "source": [
    "U = np.concatenate((u_1, u_2), axis=1)\n",
    "U"
   ]
  },
  {
   "cell_type": "markdown",
   "id": "a670172f",
   "metadata": {},
   "source": [
    "### Inspect the decomposition by multiplying $U \\Sigma V^T$ together. We should approximate $X$ very closely."
   ]
  },
  {
   "cell_type": "code",
   "execution_count": 14,
   "id": "e923a53e",
   "metadata": {},
   "outputs": [
    {
     "data": {
      "text/plain": [
       "array([[ 1., -1.,  3.],\n",
       "       [ 3.,  1.,  1.]])"
      ]
     },
     "execution_count": 14,
     "metadata": {},
     "output_type": "execute_result"
    }
   ],
   "source": [
    "Final_Test = U@ Sigma @V\n",
    "Final_Test"
   ]
  },
  {
   "cell_type": "markdown",
   "id": "d7de43a2",
   "metadata": {},
   "source": [
    "Now SVD will be done using the built-in functions in numpy"
   ]
  },
  {
   "cell_type": "code",
   "execution_count": 15,
   "id": "416cc947",
   "metadata": {},
   "outputs": [],
   "source": [
    "[u_python, s_python, v_python] = np.linalg.svd(A)"
   ]
  },
  {
   "cell_type": "code",
   "execution_count": 16,
   "id": "d83d8f2b",
   "metadata": {},
   "outputs": [
    {
     "data": {
      "text/plain": [
       "array([[ 0.70710678, -0.70710678],\n",
       "       [ 0.70710678,  0.70710678]])"
      ]
     },
     "execution_count": 16,
     "metadata": {},
     "output_type": "execute_result"
    }
   ],
   "source": [
    "u_python"
   ]
  },
  {
   "cell_type": "code",
   "execution_count": 17,
   "id": "034750bf",
   "metadata": {},
   "outputs": [
    {
     "data": {
      "text/plain": [
       "array([4.        , 2.44948974])"
      ]
     },
     "execution_count": 17,
     "metadata": {},
     "output_type": "execute_result"
    }
   ],
   "source": [
    "s_python"
   ]
  },
  {
   "cell_type": "code",
   "execution_count": 18,
   "id": "c5e71e07",
   "metadata": {},
   "outputs": [
    {
     "data": {
      "text/plain": [
       "array([[ 0.70710678, -0.        ,  0.70710678],\n",
       "       [ 0.57735027,  0.57735027, -0.57735027],\n",
       "       [-0.40824829,  0.81649658,  0.40824829]])"
      ]
     },
     "execution_count": 18,
     "metadata": {},
     "output_type": "execute_result"
    }
   ],
   "source": [
    "v_python"
   ]
  }
 ],
 "metadata": {
  "kernelspec": {
   "display_name": "Python 3 (ipykernel)",
   "language": "python",
   "name": "python3"
  },
  "language_info": {
   "codemirror_mode": {
    "name": "ipython",
    "version": 3
   },
   "file_extension": ".py",
   "mimetype": "text/x-python",
   "name": "python",
   "nbconvert_exporter": "python",
   "pygments_lexer": "ipython3",
   "version": "3.10.9"
  }
 },
 "nbformat": 4,
 "nbformat_minor": 5
}
