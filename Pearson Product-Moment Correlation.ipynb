{
 "cells": [
  {
   "cell_type": "markdown",
   "id": "a05c91f7",
   "metadata": {},
   "source": [
    "$$ covariance = cov_{xy} = \\frac{\\Sigma_{i=1}^{n}\\left(x_i - \\bar{x} \\right)\\left(y_i - \\bar{y} \\right)}{n-1} $$"
   ]
  },
  {
   "cell_type": "markdown",
   "id": "a1084902",
   "metadata": {},
   "source": [
    "Covariance is a measure of the average cross product between variables $x_i$ and $y_i$.\n",
    "\n",
    "When both above-average values of $x$ and $y$ or below-average values of $x$ and $y$ occur, the numerator tends to increase and become more positive.\n",
    "\n",
    "Similarly, when above-average values of one variable are paired with below-average values of the other, the numerator tends to increase but becomes more negative.\n",
    "\n",
    "A positive sum results in a positive covariance, while a negative sum leads to a negative covariance.\n",
    "\n",
    "Covariance is utilized to assess the joint variability of two random variables."
   ]
  },
  {
   "cell_type": "code",
   "execution_count": 1,
   "id": "aa0d8bcd",
   "metadata": {},
   "outputs": [],
   "source": [
    "import numpy as np\n",
    "import matplotlib.pyplot as plt"
   ]
  },
  {
   "cell_type": "code",
   "execution_count": 2,
   "id": "4589c486",
   "metadata": {},
   "outputs": [],
   "source": [
    "x = np.arange(0,20)\n",
    "a = 2*x + 4 + np.random.randn()\n",
    "mean_a = np.mean(a)\n",
    "\n",
    "b = 1.2*x + 3.5 + np.random.randn(len(x)) * 3\n",
    "mean_b = np.mean(b)"
   ]
  },
  {
   "cell_type": "code",
   "execution_count": 3,
   "id": "d14ebe79",
   "metadata": {},
   "outputs": [
    {
     "data": {
      "image/png": "[encoded data removed]",
      "text/plain": [
       "<Figure size 640x480 with 1 Axes>"
      ]
     },
     "metadata": {},
     "output_type": "display_data"
    }
   ],
   "source": [
    "plt.scatter(a,b)\n",
    "plt.axvline(mean_a, color = 'r', linestyle = '--', label = \"Mean a\")\n",
    "plt.axhline(mean_b, color = 'b', linestyle = '--', label = \"Mean b\")\n",
    "plt.title('Scatterplot of a and b')\n",
    "plt.xlabel('a')\n",
    "plt.ylabel('b')\n",
    "plt.legend()\n",
    "plt.show()"
   ]
  },
  {
   "cell_type": "code",
   "execution_count": 4,
   "id": "07a387ed",
   "metadata": {},
   "outputs": [],
   "source": [
    "def find_covariance(x,y):\n",
    "    mean_x = np.mean(x)\n",
    "    mean_y = np.mean(y)\n",
    "    diff_x = x - mean_x\n",
    "    diff_y = y - mean_y\n",
    "    res = np.sum(diff_x * diff_y)\n",
    "    return res/(len(x)-1)"
   ]
  },
  {
   "cell_type": "code",
   "execution_count": 5,
   "id": "a123b531",
   "metadata": {},
   "outputs": [
    {
     "data": {
      "text/plain": [
       "92.35474925103787"
      ]
     },
     "execution_count": 5,
     "metadata": {},
     "output_type": "execute_result"
    }
   ],
   "source": [
    "find_covariance(a,b)"
   ]
  },
  {
   "cell_type": "markdown",
   "id": "06ce7c47",
   "metadata": {},
   "source": [
    "Covariance is influenced by the scale of variables $x_i$ and $y_i$, making it scale-dependent. This means that the magnitude of the covariance can be affected by the scales of the variables involved. It is important to note that the sum of the products in covariance can potentially be quite large, which may give the impression of greater significance than warranted. Dividing the numerator by $(n-1)$ values does not fully address this issue, as the sum is only distributed across $(n-1)$ units. Consequently, a large covariance can sometimes be observed even when the relationship between the variables is not particularly strong.\n",
    "\n",
    "It is crucial to normalize or standardize the variables when interpreting covariance. This helps mitigate the impact of scale and provides a better understanding of the strength and direction of the association between the variables, allowing for more accurate analysis and interpretation of the covariance measurement."
   ]
  },
  {
   "cell_type": "markdown",
   "id": "e4e97350",
   "metadata": {},
   "source": [
    "$$ r = \\frac{\\frac{\\Sigma_{i=1}^{n}\\left(x_i - \\bar{x} \\right)\\left(y_i - \\bar{y} \\right)}{n-1}}{s_x \\cdot s_y} = \\frac{cov_{xy}}{s_x \\cdot s_y} $$"
   ]
  },
  {
   "cell_type": "code",
   "execution_count": 6,
   "id": "a785a47a",
   "metadata": {},
   "outputs": [],
   "source": [
    "def find_pearson_r(x,y):\n",
    "    mean_x = np.mean(x)\n",
    "    mean_y = np.mean(y)\n",
    "    \n",
    "    std_x = np.std(x, ddof = 1)\n",
    "    std_y = np.std(y, ddof = 1)\n",
    "    \n",
    "    diff_x = x - mean_x\n",
    "    diff_y = y - mean_y\n",
    "    \n",
    "    res = np.sum(diff_x * diff_y)\n",
    "    cov = res/(len(x)-1)\n",
    "    \n",
    "    return cov/np.dot(std_x , std_y)"
   ]
  },
  {
   "cell_type": "code",
   "execution_count": 7,
   "id": "48239090",
   "metadata": {},
   "outputs": [
    {
     "data": {
      "text/plain": [
       "92.35474925103787"
      ]
     },
     "execution_count": 7,
     "metadata": {},
     "output_type": "execute_result"
    }
   ],
   "source": [
    "find_covariance(a,b)"
   ]
  },
  {
   "cell_type": "code",
   "execution_count": 8,
   "id": "2a5bbaee",
   "metadata": {},
   "outputs": [
    {
     "data": {
      "text/plain": [
       "0.9698816705846939"
      ]
     },
     "execution_count": 8,
     "metadata": {},
     "output_type": "execute_result"
    }
   ],
   "source": [
    "find_pearson_r(a,b)"
   ]
  },
  {
   "cell_type": "markdown",
   "id": "ec6977de",
   "metadata": {},
   "source": [
    "The denominator in the correlation calculation represents the total variability present in the data, serving as a measure of the baseline covariability available. It can be seen as the encompassing space within which the data's variability resides. On the other hand, the numerator of the correlation captures the portion of the variability space that can be attributed to the relationships between variables $x$ and $y$. Thus, the numerator of covariance represents a subset of the total variability space. When we calculate the correlation coefficient, we are effectively accounting for the overall cross-variation observed relative to the maximum potential cross-variation that could exist within the data. This enables us to gauge the extent to which the observed cross-variation is attributable to the relationship between the variables."
   ]
  }
 ],
 "metadata": {
  "kernelspec": {
   "display_name": "Python 3 (ipykernel)",
   "language": "python",
   "name": "python3"
  },
  "language_info": {
   "codemirror_mode": {
    "name": "ipython",
    "version": 3
   },
   "file_extension": ".py",
   "mimetype": "text/x-python",
   "name": "python",
   "nbconvert_exporter": "python",
   "pygments_lexer": "ipython3",
   "version": "3.10.9"
  }
 },
 "nbformat": 4,
 "nbformat_minor": 5
}
