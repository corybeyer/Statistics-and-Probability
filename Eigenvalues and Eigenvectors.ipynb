{
 "cells": [
  {
   "cell_type": "markdown",
   "id": "4087bc31",
   "metadata": {},
   "source": [
    "## Eigenvalues and Eigenvectors"
   ]
  },
  {
   "cell_type": "markdown",
   "id": "4dd68212",
   "metadata": {},
   "source": [
    "The basis of a matrix is the set of linearly independent vectors that span the entire vector space. Independence means the vectors in the basis cannot be scalars of other vectors in the same space. The bassis provides a coordinate system that allows us to represent the vectors in numerical coordinates and serves as a reference or framework for describing vectors and their components. \n",
    "\n",
    "Eigevalues and Eigenvectors are the natural choice for matrices basis because;\n",
    "\n",
    "<b>Diagonalization:</b> If a matrix is diagonalizable, its eigenvectors can be used to form a basis where the matrix is represented as a diagonal matrix. Diagonal matrices are easier to work with, especially for operations like raising the matrix to a power or computing the matrix exponential.\n",
    "\n",
    "<b>Independence:</b> The eigenvectors of a matrix corresponding to distinct eigenvalues are linearly independent. This means they can form a basis for the space (assuming there are enough of them).\n",
    "\n",
    "<b>Simplification of Linear Transformations:</b> Eigenvectors remain in their own span under the action of the matrix (linear transformation). This means that if you choose your coordinate system to be the eigenvectors (i.e., use the eigenvectors as the basis), the action of the matrix is very simple: it just scales each basis vector by the corresponding eigenvalue.\n",
    "\n",
    "The fundemental eigenvalue equation is: $Ax = \\lambda x$ where $\\lambda$ is an eigenvalue and $x$ is an eigenvector of matrix $A$. Multiply $A$ by on of its engenvectors and the result is the same vector scaled by the $\\lambda$ constant.\n"
   ]
  },
  {
   "cell_type": "markdown",
   "id": "5e418682",
   "metadata": {},
   "source": [
    "$ Ax = \\begin{bmatrix} 4 & -2 \\\\ 1 & 1 \\end{bmatrix} \\begin{bmatrix} 2\\\\1 \\end{bmatrix} = \\begin{bmatrix}6\\\\3\\end{bmatrix} = 3\\begin{bmatrix} 2\\\\1\\ \\end{bmatrix} = 3x$"
   ]
  },
  {
   "cell_type": "markdown",
   "id": "6809cad6",
   "metadata": {},
   "source": [
    "In this case, $\\lambda = 3$ is an eigenvalue of $A$ and $x = \\begin{bmatrix} 2,1 \\end{bmatrix}^T$ is an eigenvector belonging to $\\lambda$. The vector $\\begin{bmatrix} 4, 2 \\end{bmatrix}^T$ would also be an eigenvector belonging to $\\lambda = 3$.\n",
    "\n",
    "To find the eigenvalues of a matrix, start with the equation above, $Ax =\\lambda x$ and insert the identity matrix on the RHS, $Ax = \\lambda I x$. Rearrange the equation, $(A - \\lambda I )x = \\vec{0}$\n",
    "\n",
    "This equation has a solution whenever $det(A - \\lambda I) = 0 $. $P(\\lambda) = det \\left( A- \\lambda I \\right)$ is the characteristic polynomial of $A$. The eigenvalues of $A$ are the roots of the characteristic polynomial. "
   ]
  },
  {
   "cell_type": "markdown",
   "id": "621efe14",
   "metadata": {},
   "source": [
    "Going back to the original matrix. Let's find all of the eigenvalues and eigenvectors.\n",
    "\n",
    "- Equations\n",
    "    - $A = \\begin{bmatrix} 4 & -2 \\\\ 1 & 1 \\end{bmatrix} $\n",
    "<br>\n",
    "\n",
    "    - $ det(A - \\lambda I) = 0 $ \n",
    "<br>\n",
    "- solving  <br></br>\n",
    "        $ det \\left( \\begin{bmatrix} 4 & -2 \\\\ 1 & 1 \\end{bmatrix} - \\lambda \\begin{bmatrix} 1 & 0 \\\\ 0 & 1 \\end{bmatrix}\\right) = 0$ <br></br>\n",
    "        $ \\lambda \\begin{bmatrix} 1 & 0 \\\\ 0 & 1 \\end{bmatrix} = \\begin{bmatrix} \\lambda & 0 \\\\ 0 & \\lambda \\end{bmatrix}$<br></br>\n",
    "        $ det \\left( \\begin{bmatrix} 4 & -2 \\\\ 1 & 1 \\end{bmatrix} -  \\begin{bmatrix} \\lambda & 0 \\\\ 0 & \\lambda \\end{bmatrix} \\right) = 0$<br></br>\n",
    "        $ det \\left( \\begin{bmatrix} 4 -\\lambda & -2 \\\\ 1 & 1-\\lambda \\end{bmatrix}  \\right) = 0$ <br></br>\n",
    "        $ det\\begin{bmatrix} a & b \\\\ c & d \\end{bmatrix} = ad-bc $ <br></br>\n",
    "        $ = \\left(4-\\lambda \\right)\\left(1 - \\lambda \\right) - \\left(-2\\right)$<br></br>\n",
    "        $ \\lambda = 3, \\lambda = 2 $<br></br>"
   ]
  },
  {
   "cell_type": "markdown",
   "id": "87e7fdb1",
   "metadata": {},
   "source": [
    "Substitute the eigenvalues back into the equation to find the eigenvectors when $\\lambda = 3$\n",
    "\n",
    "$ det \\left( \\begin{bmatrix} 4 & -2 \\\\ 1 & 1 \\end{bmatrix} - 3 \\begin{bmatrix} 1 & 0 \\\\ 0 & 1 \\end{bmatrix}\\right) = 0$"
   ]
  },
  {
   "cell_type": "markdown",
   "id": "73d97056",
   "metadata": {},
   "source": [
    "$ det \\left( \\begin{bmatrix} 4 & -2 \\\\ 1 & 1 \\end{bmatrix} \\begin{bmatrix} -3 & 0 \\\\ 0 & -3 \\end{bmatrix}\\right) = 0$\n",
    "\n",
    "$ = \\begin{bmatrix} 1 & -2 \\\\ 1 & -2 \\end{bmatrix} $ \n",
    "\n",
    "$ = \\begin{bmatrix} 1 & -2 \\\\ 1 & -2 \\end{bmatrix} \\begin{bmatrix} x \\\\ y \\end{bmatrix} = \\begin{bmatrix} 0 \\\\ 0 \\end{bmatrix}$ \n",
    "\n",
    "$ x - 2y = 0 \\\\ $ \n",
    "$ x = 2y \\\\$\n",
    "What numbers will cause $x = -2y$ to go to zero?\n",
    "\n",
    "$ x = 2 $ and $y = 1$\n",
    "\n",
    "Repeat for the other eigenvalue to discover the second eigenvector."
   ]
  },
  {
   "cell_type": "code",
   "execution_count": 1,
   "id": "cb9f081d",
   "metadata": {},
   "outputs": [],
   "source": [
    "import numpy as np\n",
    "from numpy import linalg as la"
   ]
  },
  {
   "cell_type": "code",
   "execution_count": 2,
   "id": "82a71d23",
   "metadata": {},
   "outputs": [
    {
     "data": {
      "text/plain": [
       "array([[ 4, -2],\n",
       "       [ 1,  1]])"
      ]
     },
     "execution_count": 2,
     "metadata": {},
     "output_type": "execute_result"
    }
   ],
   "source": [
    "A = np.array([[4,-2],[1,1]])\n",
    "A"
   ]
  },
  {
   "cell_type": "code",
   "execution_count": 3,
   "id": "90d6757a",
   "metadata": {},
   "outputs": [
    {
     "name": "stdout",
     "output_type": "stream",
     "text": [
      "eigenvalues: [3. 2.]\n",
      "normalized eigenvectors: [[0.89442719 0.70710678]\n",
      " [0.4472136  0.70710678]]\n"
     ]
    }
   ],
   "source": [
    "eigenvalues, eigenvectors = la.eig(A)\n",
    "print('eigenvalues:', eigenvalues)\n",
    "print('normalized eigenvectors:', eigenvectors)"
   ]
  },
  {
   "cell_type": "code",
   "execution_count": 4,
   "id": "625eff37",
   "metadata": {},
   "outputs": [
    {
     "name": "stdout",
     "output_type": "stream",
     "text": [
      "Result is (eigenvalue, multiplicity, eigenvector)\n"
     ]
    },
    {
     "data": {
      "text/plain": [
       "[(2,\n",
       "  1,\n",
       "  [Matrix([\n",
       "   [1],\n",
       "   [1]])]),\n",
       " (3,\n",
       "  1,\n",
       "  [Matrix([\n",
       "   [2],\n",
       "   [1]])])]"
      ]
     },
     "execution_count": 4,
     "metadata": {},
     "output_type": "execute_result"
    }
   ],
   "source": [
    "import sympy as sp\n",
    "\n",
    "mat_a = sp.Matrix(A)\n",
    "mat_a.eigenvects()\n",
    "\n",
    "print('Result is (eigenvalue, multiplicity, eigenvector)')\n",
    "\n",
    "mat_a.eigenvects()"
   ]
  },
  {
   "cell_type": "code",
   "execution_count": null,
   "id": "15037322",
   "metadata": {},
   "outputs": [],
   "source": []
  }
 ],
 "metadata": {
  "kernelspec": {
   "display_name": "Python 3 (ipykernel)",
   "language": "python",
   "name": "python3"
  },
  "language_info": {
   "codemirror_mode": {
    "name": "ipython",
    "version": 3
   },
   "file_extension": ".py",
   "mimetype": "text/x-python",
   "name": "python",
   "nbconvert_exporter": "python",
   "pygments_lexer": "ipython3",
   "version": "3.10.9"
  }
 },
 "nbformat": 4,
 "nbformat_minor": 5
}
